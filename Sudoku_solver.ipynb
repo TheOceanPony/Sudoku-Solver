{
 "cells": [
  {
   "cell_type": "code",
   "execution_count": 1,
   "metadata": {},
   "outputs": [],
   "source": [
    "import numpy as np\n",
    "from numba import njit\n",
    "\n",
    "from utils import initialize_neighbors, render_sudoku, recalculate_g, initialize_q, is_new_label_consistent, get_example"
   ]
  },
  {
   "cell_type": "markdown",
   "metadata": {},
   "source": [
    "---"
   ]
  },
  {
   "cell_type": "markdown",
   "metadata": {},
   "source": [
    "## Input"
   ]
  },
  {
   "cell_type": "code",
   "execution_count": 2,
   "metadata": {},
   "outputs": [
    {
     "data": {
      "image/png": "[encoded data removed]",
      "text/plain": [
       "<Figure size 432x288 with 1 Axes>"
      ]
     },
     "metadata": {
      "needs_background": "light"
     },
     "output_type": "display_data"
    }
   ],
   "source": [
    "sudoku_input = get_example(2) # [0,3]\n",
    "render_sudoku(sudoku_input)\n",
    "sudoku_source = np.copy(sudoku_input)"
   ]
  },
  {
   "cell_type": "markdown",
   "metadata": {},
   "source": [
    "## Init"
   ]
  },
  {
   "cell_type": "code",
   "execution_count": 3,
   "metadata": {},
   "outputs": [],
   "source": [
    "w, h, n_labels, n_neighbours = 9, 9, 9, 20\n",
    "width, height = w, h\n",
    "neighbors_structure = np.zeros((h, w, n_neighbours)) # h, w, n_neighbors\n",
    "for i in range(h):\n",
    "    for j in range(w):\n",
    "        neighbors_structure[i, j, :] = initialize_neighbors(i, j)\n",
    "\n",
    "q = np.ones((h, w, n_labels), dtype=bool) # h, w, n_digits\n",
    "g = np.ones((h, w, n_neighbours, n_labels, n_labels), dtype=bool) # h, w, n_neighbors, k, k_"
   ]
  },
  {
   "cell_type": "markdown",
   "metadata": {},
   "source": [
    "---"
   ]
  },
  {
   "cell_type": "markdown",
   "metadata": {},
   "source": [
    "## Main "
   ]
  },
  {
   "cell_type": "code",
   "execution_count": 4,
   "metadata": {
    "scrolled": true
   },
   "outputs": [],
   "source": [
    "## initialization part\n",
    "# initialize Q\n",
    "q = initialize_q(sudoku_input, height,width,n_labels)\n",
    "finished = False\n",
    "refused = False\n",
    "sudoku_copy = sudoku_input.copy()\n",
    "for i in range(height):\n",
    "    for j in range(width):\n",
    "        # if not filled\n",
    "        if sudoku_copy[i,j] == 0 and not finished:\n",
    "            for k in range(n_labels):\n",
    "                sudoku_copy[i,j] = k + 1\n",
    "                ##### update g #######\n",
    "                q[i, j, :] = 0\n",
    "                q[i, j, k] = 1\n",
    "                ######################\n",
    "                ##### update g #######\n",
    "                g = recalculate_g(sudoku_copy, neighbors_structure, height, width, n_labels, n_neighbours)\n",
    "                ######################\n",
    "                is_consistent = is_new_label_consistent(q, g, neighbors_structure)\n",
    "                if is_consistent:\n",
    "                    sudoku_input[i, j] = k + 1\n",
    "                    break\n",
    "                if k == n_labels - 1 and not is_consistent:\n",
    "                    #print(\"!!! Not solvable sudoku !!!\")\n",
    "                    refused = True\n",
    "                    finished = True\n",
    "                q[i, j, :] = 0\n"
   ]
  },
  {
   "cell_type": "markdown",
   "metadata": {},
   "source": [
    "---"
   ]
  },
  {
   "cell_type": "markdown",
   "metadata": {},
   "source": [
    "## Result"
   ]
  },
  {
   "cell_type": "code",
   "execution_count": 5,
   "metadata": {},
   "outputs": [
    {
     "data": {
      "image/png": "[encoded data removed]",
      "text/plain": [
       "<Figure size 432x288 with 1 Axes>"
      ]
     },
     "metadata": {
      "needs_background": "light"
     },
     "output_type": "display_data"
    }
   ],
   "source": [
    "# Result\n",
    "if refused:\n",
    "    print(f\"System says: 'I refuse!'\")\n",
    "else:\n",
    "    render_sudoku(sudoku_input)"
   ]
  },
  {
   "cell_type": "code",
   "execution_count": 6,
   "metadata": {},
   "outputs": [
    {
     "data": {
      "image/png": "[encoded data removed]",
      "text/plain": [
       "<Figure size 432x288 with 1 Axes>"
      ]
     },
     "metadata": {
      "needs_background": "light"
     },
     "output_type": "display_data"
    }
   ],
   "source": [
    "# Input\n",
    "render_sudoku(sudoku_source)"
   ]
  }
 ],
 "metadata": {
  "kernelspec": {
   "display_name": "Python 3",
   "language": "python",
   "name": "python3"
  },
  "language_info": {
   "codemirror_mode": {
    "name": "ipython",
    "version": 3
   },
   "file_extension": ".py",
   "mimetype": "text/x-python",
   "name": "python",
   "nbconvert_exporter": "python",
   "pygments_lexer": "ipython3",
   "version": "3.8.0"
  }
 },
 "nbformat": 4,
 "nbformat_minor": 2
}
